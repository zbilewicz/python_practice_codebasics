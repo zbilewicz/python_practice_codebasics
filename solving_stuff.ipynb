{
 "cells": [
  {
   "cell_type": "markdown",
   "id": "b72850f1",
   "metadata": {},
   "source": [
    "ok so i just wanted to try out how this works in dictionaries"
   ]
  },
  {
   "cell_type": "code",
   "execution_count": 27,
   "id": "354411f3",
   "metadata": {},
   "outputs": [],
   "source": [
    "a = {'Joe': 'ugly', 4:'hey'}"
   ]
  },
  {
   "cell_type": "code",
   "execution_count": 2,
   "id": "02b25d96",
   "metadata": {},
   "outputs": [
    {
     "data": {
      "text/plain": [
       "{'Joe': 'ugly', 4: 'hey'}"
      ]
     },
     "execution_count": 2,
     "metadata": {},
     "output_type": "execute_result"
    }
   ],
   "source": [
    "a"
   ]
  },
  {
   "cell_type": "code",
   "execution_count": 3,
   "id": "b706cc24",
   "metadata": {},
   "outputs": [
    {
     "data": {
      "text/plain": [
       "False"
      ]
     },
     "execution_count": 3,
     "metadata": {},
     "output_type": "execute_result"
    }
   ],
   "source": [
    "'hey' in a"
   ]
  },
  {
   "cell_type": "code",
   "execution_count": 4,
   "id": "65204189",
   "metadata": {},
   "outputs": [
    {
     "ename": "TypeError",
     "evalue": "argument of type 'builtin_function_or_method' is not iterable",
     "output_type": "error",
     "traceback": [
      "\u001b[1;31m---------------------------------------------------------------------------\u001b[0m",
      "\u001b[1;31mTypeError\u001b[0m                                 Traceback (most recent call last)",
      "Cell \u001b[1;32mIn[4], line 1\u001b[0m\n\u001b[1;32m----> 1\u001b[0m \u001b[38;5;124m'\u001b[39m\u001b[38;5;124mhey\u001b[39m\u001b[38;5;124m'\u001b[39m \u001b[38;5;129;01min\u001b[39;00m a\u001b[38;5;241m.\u001b[39mitems\n",
      "\u001b[1;31mTypeError\u001b[0m: argument of type 'builtin_function_or_method' is not iterable"
     ]
    }
   ],
   "source": [
    "'hey' in a.items"
   ]
  },
  {
   "cell_type": "code",
   "execution_count": 5,
   "id": "d36b5f01",
   "metadata": {},
   "outputs": [
    {
     "data": {
      "text/plain": [
       "False"
      ]
     },
     "execution_count": 5,
     "metadata": {},
     "output_type": "execute_result"
    }
   ],
   "source": [
    "'hey' in a.items()"
   ]
  },
  {
   "cell_type": "code",
   "execution_count": 35,
   "id": "e02a2314",
   "metadata": {},
   "outputs": [
    {
     "name": "stdout",
     "output_type": "stream",
     "text": [
      "ugly\n"
     ]
    }
   ],
   "source": [
    "print(a['Joe'])"
   ]
  },
  {
   "cell_type": "code",
   "execution_count": 6,
   "id": "f83691e3",
   "metadata": {},
   "outputs": [
    {
     "data": {
      "text/plain": [
       "True"
      ]
     },
     "execution_count": 6,
     "metadata": {},
     "output_type": "execute_result"
    }
   ],
   "source": [
    "4 in a"
   ]
  },
  {
   "cell_type": "code",
   "execution_count": 31,
   "id": "a519319d",
   "metadata": {},
   "outputs": [
    {
     "ename": "AttributeError",
     "evalue": "'dict' object has no attribute 'append'",
     "output_type": "error",
     "traceback": [
      "\u001b[1;31m---------------------------------------------------------------------------\u001b[0m",
      "\u001b[1;31mAttributeError\u001b[0m                            Traceback (most recent call last)",
      "Cell \u001b[1;32mIn[31], line 1\u001b[0m\n\u001b[1;32m----> 1\u001b[0m a\u001b[38;5;241m.\u001b[39mappend(\u001b[38;5;124m'\u001b[39m\u001b[38;5;124mgrue\u001b[39m\u001b[38;5;124m'\u001b[39m)\n",
      "\u001b[1;31mAttributeError\u001b[0m: 'dict' object has no attribute 'append'"
     ]
    }
   ],
   "source": [
    "a.append('grue')"
   ]
  },
  {
   "cell_type": "code",
   "execution_count": 7,
   "id": "b8066c85",
   "metadata": {},
   "outputs": [
    {
     "ename": "SyntaxError",
     "evalue": "illegal target for annotation (1524058221.py, line 1)",
     "output_type": "error",
     "traceback": [
      "\u001b[1;36m  Cell \u001b[1;32mIn[7], line 1\u001b[1;36m\u001b[0m\n\u001b[1;33m    4:'hey' in a\u001b[0m\n\u001b[1;37m    ^\u001b[0m\n\u001b[1;31mSyntaxError\u001b[0m\u001b[1;31m:\u001b[0m illegal target for annotation\n"
     ]
    }
   ],
   "source": [
    "4:'hey' in a"
   ]
  },
  {
   "cell_type": "code",
   "execution_count": 8,
   "id": "b87349b2",
   "metadata": {},
   "outputs": [
    {
     "data": {
      "text/plain": [
       "(4, False)"
      ]
     },
     "execution_count": 8,
     "metadata": {},
     "output_type": "execute_result"
    }
   ],
   "source": [
    "4,'hey' in a #what"
   ]
  },
  {
   "cell_type": "code",
   "execution_count": 9,
   "id": "61340c21",
   "metadata": {},
   "outputs": [
    {
     "data": {
      "text/plain": [
       "('Joe', True)"
      ]
     },
     "execution_count": 9,
     "metadata": {},
     "output_type": "execute_result"
    }
   ],
   "source": [
    "'Joe', 4 in a #ok i get what it's doing"
   ]
  },
  {
   "cell_type": "code",
   "execution_count": 10,
   "id": "a80c4923",
   "metadata": {},
   "outputs": [
    {
     "data": {
      "text/plain": [
       "True"
      ]
     },
     "execution_count": 10,
     "metadata": {},
     "output_type": "execute_result"
    }
   ],
   "source": [
    "'Joe'and 4 in a"
   ]
  },
  {
   "cell_type": "code",
   "execution_count": 11,
   "id": "090c42fe",
   "metadata": {},
   "outputs": [
    {
     "ename": "SyntaxError",
     "evalue": "illegal target for annotation (3278355024.py, line 1)",
     "output_type": "error",
     "traceback": [
      "\u001b[1;36m  Cell \u001b[1;32mIn[11], line 1\u001b[1;36m\u001b[0m\n\u001b[1;33m    'Joe': 'ugly' in a\u001b[0m\n\u001b[1;37m    ^\u001b[0m\n\u001b[1;31mSyntaxError\u001b[0m\u001b[1;31m:\u001b[0m illegal target for annotation\n"
     ]
    }
   ],
   "source": [
    "'Joe': 'ugly' in a"
   ]
  },
  {
   "cell_type": "code",
   "execution_count": 12,
   "id": "40e066cf",
   "metadata": {},
   "outputs": [
    {
     "data": {
      "text/plain": [
       "True"
      ]
     },
     "execution_count": 12,
     "metadata": {},
     "output_type": "execute_result"
    }
   ],
   "source": [
    "a['Joe'] =='ugly'"
   ]
  },
  {
   "cell_type": "code",
   "execution_count": 29,
   "id": "f67c2bda",
   "metadata": {},
   "outputs": [
    {
     "data": {
      "text/plain": [
       "{'Joe': 'ugly', 4: 'hey'}"
      ]
     },
     "execution_count": 29,
     "metadata": {},
     "output_type": "execute_result"
    }
   ],
   "source": [
    "a"
   ]
  },
  {
   "cell_type": "code",
   "execution_count": 13,
   "id": "e1fd7e5d",
   "metadata": {},
   "outputs": [],
   "source": [
    "a.clear()"
   ]
  },
  {
   "cell_type": "code",
   "execution_count": 14,
   "id": "7f15dd95",
   "metadata": {},
   "outputs": [
    {
     "data": {
      "text/plain": [
       "{}"
      ]
     },
     "execution_count": 14,
     "metadata": {},
     "output_type": "execute_result"
    }
   ],
   "source": [
    "a"
   ]
  },
  {
   "cell_type": "code",
   "execution_count": 15,
   "id": "a4caa88a",
   "metadata": {},
   "outputs": [],
   "source": [
    "a=(3,2)"
   ]
  },
  {
   "cell_type": "code",
   "execution_count": 16,
   "id": "4753da56",
   "metadata": {},
   "outputs": [
    {
     "data": {
      "text/plain": [
       "(3, 2)"
      ]
     },
     "execution_count": 16,
     "metadata": {},
     "output_type": "execute_result"
    }
   ],
   "source": [
    "a"
   ]
  },
  {
   "cell_type": "code",
   "execution_count": 17,
   "id": "67d148c7",
   "metadata": {},
   "outputs": [],
   "source": [
    "a=[2,'3']"
   ]
  },
  {
   "cell_type": "code",
   "execution_count": 18,
   "id": "621a5430",
   "metadata": {},
   "outputs": [
    {
     "data": {
      "text/plain": [
       "[2, '3']"
      ]
     },
     "execution_count": 18,
     "metadata": {},
     "output_type": "execute_result"
    }
   ],
   "source": [
    "a"
   ]
  },
  {
   "cell_type": "code",
   "execution_count": 19,
   "id": "a55ed5fe",
   "metadata": {},
   "outputs": [
    {
     "ename": "ModuleNotFoundError",
     "evalue": "No module named 'cal'",
     "output_type": "error",
     "traceback": [
      "\u001b[1;31m---------------------------------------------------------------------------\u001b[0m",
      "\u001b[1;31mModuleNotFoundError\u001b[0m                       Traceback (most recent call last)",
      "Cell \u001b[1;32mIn[19], line 1\u001b[0m\n\u001b[1;32m----> 1\u001b[0m \u001b[38;5;28;01mimport\u001b[39;00m \u001b[38;5;21;01mcal\u001b[39;00m\n",
      "\u001b[1;31mModuleNotFoundError\u001b[0m: No module named 'cal'"
     ]
    }
   ],
   "source": [
    "import cal"
   ]
  },
  {
   "cell_type": "code",
   "execution_count": 20,
   "id": "2a3dfc78",
   "metadata": {},
   "outputs": [],
   "source": [
    "import calendar"
   ]
  },
  {
   "cell_type": "code",
   "execution_count": 21,
   "id": "08d4298a",
   "metadata": {},
   "outputs": [
    {
     "ename": "NameError",
     "evalue": "name 'cal' is not defined",
     "output_type": "error",
     "traceback": [
      "\u001b[1;31m---------------------------------------------------------------------------\u001b[0m",
      "\u001b[1;31mNameError\u001b[0m                                 Traceback (most recent call last)",
      "Cell \u001b[1;32mIn[21], line 1\u001b[0m\n\u001b[1;32m----> 1\u001b[0m cal\u001b[38;5;241m.\u001b[39mmonth(\u001b[38;5;241m2016\u001b[39m)\n",
      "\u001b[1;31mNameError\u001b[0m: name 'cal' is not defined"
     ]
    }
   ],
   "source": [
    "cal.month(2016)"
   ]
  },
  {
   "cell_type": "code",
   "execution_count": 22,
   "id": "7d8edfe7",
   "metadata": {},
   "outputs": [
    {
     "ename": "TypeError",
     "evalue": "TextCalendar.formatmonth() missing 1 required positional argument: 'themonth'",
     "output_type": "error",
     "traceback": [
      "\u001b[1;31m---------------------------------------------------------------------------\u001b[0m",
      "\u001b[1;31mTypeError\u001b[0m                                 Traceback (most recent call last)",
      "Cell \u001b[1;32mIn[22], line 1\u001b[0m\n\u001b[1;32m----> 1\u001b[0m calendar\u001b[38;5;241m.\u001b[39mmonth(\u001b[38;5;241m2016\u001b[39m)\n",
      "\u001b[1;31mTypeError\u001b[0m: TextCalendar.formatmonth() missing 1 required positional argument: 'themonth'"
     ]
    }
   ],
   "source": [
    "calendar.month(2016)"
   ]
  },
  {
   "cell_type": "code",
   "execution_count": 23,
   "id": "a7488ddc",
   "metadata": {},
   "outputs": [
    {
     "data": {
      "text/plain": [
       "['Calendar',\n",
       " 'EPOCH',\n",
       " 'FRIDAY',\n",
       " 'February',\n",
       " 'HTMLCalendar',\n",
       " 'IllegalMonthError',\n",
       " 'IllegalWeekdayError',\n",
       " 'January',\n",
       " 'LocaleHTMLCalendar',\n",
       " 'LocaleTextCalendar',\n",
       " 'MONDAY',\n",
       " 'SATURDAY',\n",
       " 'SUNDAY',\n",
       " 'THURSDAY',\n",
       " 'TUESDAY',\n",
       " 'TextCalendar',\n",
       " 'WEDNESDAY',\n",
       " '_EPOCH_ORD',\n",
       " '__all__',\n",
       " '__builtins__',\n",
       " '__cached__',\n",
       " '__doc__',\n",
       " '__file__',\n",
       " '__loader__',\n",
       " '__name__',\n",
       " '__package__',\n",
       " '__spec__',\n",
       " '_colwidth',\n",
       " '_get_default_locale',\n",
       " '_locale',\n",
       " '_localized_day',\n",
       " '_localized_month',\n",
       " '_monthlen',\n",
       " '_nextmonth',\n",
       " '_prevmonth',\n",
       " '_spacing',\n",
       " 'c',\n",
       " 'calendar',\n",
       " 'datetime',\n",
       " 'day_abbr',\n",
       " 'day_name',\n",
       " 'different_locale',\n",
       " 'error',\n",
       " 'firstweekday',\n",
       " 'format',\n",
       " 'formatstring',\n",
       " 'isleap',\n",
       " 'leapdays',\n",
       " 'main',\n",
       " 'mdays',\n",
       " 'month',\n",
       " 'month_abbr',\n",
       " 'month_name',\n",
       " 'monthcalendar',\n",
       " 'monthrange',\n",
       " 'prcal',\n",
       " 'prmonth',\n",
       " 'prweek',\n",
       " 'repeat',\n",
       " 'setfirstweekday',\n",
       " 'sys',\n",
       " 'timegm',\n",
       " 'week',\n",
       " 'weekday',\n",
       " 'weekheader']"
      ]
     },
     "execution_count": 23,
     "metadata": {},
     "output_type": "execute_result"
    }
   ],
   "source": [
    "dir(calendar)"
   ]
  },
  {
   "cell_type": "code",
   "execution_count": 24,
   "id": "859b6deb",
   "metadata": {},
   "outputs": [
    {
     "ename": "SyntaxError",
     "evalue": "(unicode error) 'unicodeescape' codec can't decode bytes in position 2-3: truncated \\UXXXXXXXX escape (971765493.py, line 2)",
     "output_type": "error",
     "traceback": [
      "\u001b[1;36m  Cell \u001b[1;32mIn[24], line 2\u001b[1;36m\u001b[0m\n\u001b[1;33m    sys.path.append(\"C:\\Users\\Zosia\\Documents\\szkola\\liceum\\4 klasa\\coding projects\\gitara_dzwieki\")\u001b[0m\n\u001b[1;37m                                                                                                   ^\u001b[0m\n\u001b[1;31mSyntaxError\u001b[0m\u001b[1;31m:\u001b[0m (unicode error) 'unicodeescape' codec can't decode bytes in position 2-3: truncated \\UXXXXXXXX escape\n"
     ]
    }
   ],
   "source": [
    "import sys\n",
    "sys.path.append(\"C:\\Users\\Zosia\\Documents\\szkola\\liceum\\4 klasa\\coding projects\\gitara_dzwieki\")"
   ]
  },
  {
   "cell_type": "code",
   "execution_count": 25,
   "id": "be4063d1",
   "metadata": {},
   "outputs": [],
   "source": [
    "import sys"
   ]
  },
  {
   "cell_type": "code",
   "execution_count": 26,
   "id": "dac1bcbf",
   "metadata": {},
   "outputs": [],
   "source": [
    "sys.path.append(\"C:gitara_dzwieki\")"
   ]
  },
  {
   "cell_type": "code",
   "execution_count": 27,
   "id": "71debae7",
   "metadata": {},
   "outputs": [
    {
     "ename": "SyntaxError",
     "evalue": "(unicode error) 'unicodeescape' codec can't decode bytes in position 2-3: truncated \\UXXXXXXXX escape (2157262375.py, line 1)",
     "output_type": "error",
     "traceback": [
      "\u001b[1;36m  Cell \u001b[1;32mIn[27], line 1\u001b[1;36m\u001b[0m\n\u001b[1;33m    sys.path.append(\"C:\\Users\\Zosia\\Documents\\szkola\\liceum\")\u001b[0m\n\u001b[1;37m                                                            ^\u001b[0m\n\u001b[1;31mSyntaxError\u001b[0m\u001b[1;31m:\u001b[0m (unicode error) 'unicodeescape' codec can't decode bytes in position 2-3: truncated \\UXXXXXXXX escape\n"
     ]
    }
   ],
   "source": [
    "sys.path.append(\"C:\\Users\\Zosia\\Documents\\szkola\\liceum\")"
   ]
  },
  {
   "cell_type": "code",
   "execution_count": 28,
   "id": "49cf3471",
   "metadata": {},
   "outputs": [],
   "source": [
    "sys.path.append(\"C:Documents\\szkola\\liceum\")"
   ]
  },
  {
   "cell_type": "code",
   "execution_count": 29,
   "id": "46c30abf",
   "metadata": {},
   "outputs": [],
   "source": [
    "sys.path.append(\"C:Downloads\")"
   ]
  },
  {
   "cell_type": "code",
   "execution_count": 31,
   "id": "1c377c70",
   "metadata": {},
   "outputs": [
    {
     "data": {
      "text/plain": [
       "['__breakpointhook__',\n",
       " '__displayhook__',\n",
       " '__doc__',\n",
       " '__excepthook__',\n",
       " '__interactivehook__',\n",
       " '__loader__',\n",
       " '__name__',\n",
       " '__package__',\n",
       " '__spec__',\n",
       " '__stderr__',\n",
       " '__stdin__',\n",
       " '__stdout__',\n",
       " '__unraisablehook__',\n",
       " '_base_executable',\n",
       " '_clear_type_cache',\n",
       " '_current_exceptions',\n",
       " '_current_frames',\n",
       " '_debugmallocstats',\n",
       " '_enablelegacywindowsfsencoding',\n",
       " '_framework',\n",
       " '_getframe',\n",
       " '_getquickenedcount',\n",
       " '_git',\n",
       " '_home',\n",
       " '_stdlib_dir',\n",
       " '_vpath',\n",
       " '_xoptions',\n",
       " 'addaudithook',\n",
       " 'api_version',\n",
       " 'argv',\n",
       " 'audit',\n",
       " 'base_exec_prefix',\n",
       " 'base_prefix',\n",
       " 'breakpointhook',\n",
       " 'builtin_module_names',\n",
       " 'byteorder',\n",
       " 'call_tracing',\n",
       " 'copyright',\n",
       " 'displayhook',\n",
       " 'dllhandle',\n",
       " 'dont_write_bytecode',\n",
       " 'exc_info',\n",
       " 'excepthook',\n",
       " 'exception',\n",
       " 'exec_prefix',\n",
       " 'executable',\n",
       " 'exit',\n",
       " 'flags',\n",
       " 'float_info',\n",
       " 'float_repr_style',\n",
       " 'get_asyncgen_hooks',\n",
       " 'get_coroutine_origin_tracking_depth',\n",
       " 'get_int_max_str_digits',\n",
       " 'getallocatedblocks',\n",
       " 'getdefaultencoding',\n",
       " 'getfilesystemencodeerrors',\n",
       " 'getfilesystemencoding',\n",
       " 'getprofile',\n",
       " 'getrecursionlimit',\n",
       " 'getrefcount',\n",
       " 'getsizeof',\n",
       " 'getswitchinterval',\n",
       " 'gettrace',\n",
       " 'getwindowsversion',\n",
       " 'hash_info',\n",
       " 'hexversion',\n",
       " 'implementation',\n",
       " 'int_info',\n",
       " 'intern',\n",
       " 'is_finalizing',\n",
       " 'last_traceback',\n",
       " 'last_type',\n",
       " 'last_value',\n",
       " 'maxsize',\n",
       " 'maxunicode',\n",
       " 'meta_path',\n",
       " 'modules',\n",
       " 'orig_argv',\n",
       " 'path',\n",
       " 'path_hooks',\n",
       " 'path_importer_cache',\n",
       " 'platform',\n",
       " 'platlibdir',\n",
       " 'prefix',\n",
       " 'ps1',\n",
       " 'ps2',\n",
       " 'ps3',\n",
       " 'pycache_prefix',\n",
       " 'set_asyncgen_hooks',\n",
       " 'set_coroutine_origin_tracking_depth',\n",
       " 'set_int_max_str_digits',\n",
       " 'setprofile',\n",
       " 'setrecursionlimit',\n",
       " 'setswitchinterval',\n",
       " 'settrace',\n",
       " 'stderr',\n",
       " 'stdin',\n",
       " 'stdlib_module_names',\n",
       " 'stdout',\n",
       " 'thread_info',\n",
       " 'unraisablehook',\n",
       " 'version',\n",
       " 'version_info',\n",
       " 'warnoptions',\n",
       " 'winver']"
      ]
     },
     "execution_count": 31,
     "metadata": {},
     "output_type": "execute_result"
    }
   ],
   "source": [
    "dir(sys)"
   ]
  },
  {
   "cell_type": "code",
   "execution_count": 32,
   "id": "4ac676b8",
   "metadata": {},
   "outputs": [
    {
     "data": {
      "text/plain": [
       "['C:\\\\Users\\\\Zosia\\\\Documents\\\\szkola\\\\liceum\\\\4 klasa\\\\coding projects\\\\python exercises\\\\simple',\n",
       " 'C:\\\\Users\\\\Zosia\\\\anaconda3\\\\python311.zip',\n",
       " 'C:\\\\Users\\\\Zosia\\\\anaconda3\\\\DLLs',\n",
       " 'C:\\\\Users\\\\Zosia\\\\anaconda3\\\\Lib',\n",
       " 'C:\\\\Users\\\\Zosia\\\\anaconda3',\n",
       " '',\n",
       " 'C:\\\\Users\\\\Zosia\\\\anaconda3\\\\Lib\\\\site-packages',\n",
       " 'C:\\\\Users\\\\Zosia\\\\anaconda3\\\\Lib\\\\site-packages\\\\win32',\n",
       " 'C:\\\\Users\\\\Zosia\\\\anaconda3\\\\Lib\\\\site-packages\\\\win32\\\\lib',\n",
       " 'C:\\\\Users\\\\Zosia\\\\anaconda3\\\\Lib\\\\site-packages\\\\Pythonwin',\n",
       " 'C:gitara_dzwieki',\n",
       " 'C:Documents\\\\szkola\\\\liceum',\n",
       " 'C:Downloads']"
      ]
     },
     "execution_count": 32,
     "metadata": {},
     "output_type": "execute_result"
    }
   ],
   "source": [
    "sys.path"
   ]
  },
  {
   "cell_type": "code",
   "execution_count": 36,
   "id": "e9bdf055",
   "metadata": {},
   "outputs": [
    {
     "data": {
      "text/plain": [
       "'{\"imie\": \"Zosia\", \"wiek\": 15}'"
      ]
     },
     "execution_count": 36,
     "metadata": {},
     "output_type": "execute_result"
    }
   ],
   "source": [
    "age='wiek'\n",
    "import json\n",
    "dane ={\n",
    "    'imie' : 'Zosia',\n",
    "    age: 15\n",
    "}\n",
    "json.dumps(dane)"
   ]
  },
  {
   "cell_type": "code",
   "execution_count": 37,
   "id": "b90d85b7",
   "metadata": {},
   "outputs": [
    {
     "ename": "PermissionError",
     "evalue": "[Errno 13] Permission denied: 'C:'",
     "output_type": "error",
     "traceback": [
      "\u001b[1;31m---------------------------------------------------------------------------\u001b[0m",
      "\u001b[1;31mPermissionError\u001b[0m                           Traceback (most recent call last)",
      "Cell \u001b[1;32mIn[37], line 1\u001b[0m\n\u001b[1;32m----> 1\u001b[0m \u001b[38;5;28;01mwith\u001b[39;00m \u001b[38;5;28mopen\u001b[39m(\u001b[38;5;124m'\u001b[39m\u001b[38;5;124mC:\u001b[39m\u001b[38;5;124m'\u001b[39m) \u001b[38;5;28;01mas\u001b[39;00m dane:\n\u001b[0;32m      2\u001b[0m     dane\u001b[38;5;241m.\u001b[39mwrite(dane)\n",
      "File \u001b[1;32m~\\anaconda3\\Lib\\site-packages\\IPython\\core\\interactiveshell.py:284\u001b[0m, in \u001b[0;36m_modified_open\u001b[1;34m(file, *args, **kwargs)\u001b[0m\n\u001b[0;32m    277\u001b[0m \u001b[38;5;28;01mif\u001b[39;00m file \u001b[38;5;129;01min\u001b[39;00m {\u001b[38;5;241m0\u001b[39m, \u001b[38;5;241m1\u001b[39m, \u001b[38;5;241m2\u001b[39m}:\n\u001b[0;32m    278\u001b[0m     \u001b[38;5;28;01mraise\u001b[39;00m \u001b[38;5;167;01mValueError\u001b[39;00m(\n\u001b[0;32m    279\u001b[0m         \u001b[38;5;124mf\u001b[39m\u001b[38;5;124m\"\u001b[39m\u001b[38;5;124mIPython won\u001b[39m\u001b[38;5;124m'\u001b[39m\u001b[38;5;124mt let you open fd=\u001b[39m\u001b[38;5;132;01m{\u001b[39;00mfile\u001b[38;5;132;01m}\u001b[39;00m\u001b[38;5;124m by default \u001b[39m\u001b[38;5;124m\"\u001b[39m\n\u001b[0;32m    280\u001b[0m         \u001b[38;5;124m\"\u001b[39m\u001b[38;5;124mas it is likely to crash IPython. If you know what you are doing, \u001b[39m\u001b[38;5;124m\"\u001b[39m\n\u001b[0;32m    281\u001b[0m         \u001b[38;5;124m\"\u001b[39m\u001b[38;5;124myou can use builtins\u001b[39m\u001b[38;5;124m'\u001b[39m\u001b[38;5;124m open.\u001b[39m\u001b[38;5;124m\"\u001b[39m\n\u001b[0;32m    282\u001b[0m     )\n\u001b[1;32m--> 284\u001b[0m \u001b[38;5;28;01mreturn\u001b[39;00m io_open(file, \u001b[38;5;241m*\u001b[39margs, \u001b[38;5;241m*\u001b[39m\u001b[38;5;241m*\u001b[39mkwargs)\n",
      "\u001b[1;31mPermissionError\u001b[0m: [Errno 13] Permission denied: 'C:'"
     ]
    }
   ],
   "source": [
    "with open('C:') as dane:\n",
    "    dane.write(dane)"
   ]
  },
  {
   "cell_type": "code",
   "execution_count": 45,
   "id": "1f10c558",
   "metadata": {},
   "outputs": [],
   "source": [
    "sys.path=(\"C:\\\\Users\\\\Zosia\\\\Documents\\\\szkola\\\\liceum\\\\4 klasa\\\\coding projects\\\\python exercises\\\\simple\")"
   ]
  },
  {
   "cell_type": "code",
   "execution_count": 46,
   "id": "a6db1546",
   "metadata": {},
   "outputs": [
    {
     "data": {
      "text/plain": [
       "'C:\\\\Users\\\\Zosia\\\\Documents\\\\szkola\\\\liceum\\\\4 klasa\\\\coding projects\\\\python exercises\\\\simple'"
      ]
     },
     "execution_count": 46,
     "metadata": {},
     "output_type": "execute_result"
    }
   ],
   "source": [
    "sys.path"
   ]
  },
  {
   "cell_type": "code",
   "execution_count": 68,
   "id": "25a7fe12",
   "metadata": {},
   "outputs": [],
   "source": [
    "with open('readme.txt', 'w') as dane:\n",
    "    dane.write('Create a new text file!')"
   ]
  },
  {
   "cell_type": "code",
   "execution_count": 96,
   "id": "373f3147",
   "metadata": {},
   "outputs": [
    {
     "ename": "FileNotFoundError",
     "evalue": "[Errno 2] No such file or directory: 'simple/readme.txt'",
     "output_type": "error",
     "traceback": [
      "\u001b[1;31m---------------------------------------------------------------------------\u001b[0m",
      "\u001b[1;31mFileNotFoundError\u001b[0m                         Traceback (most recent call last)",
      "Cell \u001b[1;32mIn[96], line 1\u001b[0m\n\u001b[1;32m----> 1\u001b[0m \u001b[38;5;28;01mwith\u001b[39;00m \u001b[38;5;28mopen\u001b[39m(\u001b[38;5;124mr\u001b[39m\u001b[38;5;124m'\u001b[39m\u001b[38;5;124msimple/readme.txt\u001b[39m\u001b[38;5;124m'\u001b[39m, \u001b[38;5;124m'\u001b[39m\u001b[38;5;124mw\u001b[39m\u001b[38;5;124m'\u001b[39m) \u001b[38;5;28;01mas\u001b[39;00m dane:\n\u001b[0;32m      2\u001b[0m     dane\u001b[38;5;241m.\u001b[39mwrite(\u001b[38;5;124m'\u001b[39m\u001b[38;5;124mCreate a new text file!\u001b[39m\u001b[38;5;124m'\u001b[39m)\n",
      "File \u001b[1;32m~\\anaconda3\\Lib\\site-packages\\IPython\\core\\interactiveshell.py:284\u001b[0m, in \u001b[0;36m_modified_open\u001b[1;34m(file, *args, **kwargs)\u001b[0m\n\u001b[0;32m    277\u001b[0m \u001b[38;5;28;01mif\u001b[39;00m file \u001b[38;5;129;01min\u001b[39;00m {\u001b[38;5;241m0\u001b[39m, \u001b[38;5;241m1\u001b[39m, \u001b[38;5;241m2\u001b[39m}:\n\u001b[0;32m    278\u001b[0m     \u001b[38;5;28;01mraise\u001b[39;00m \u001b[38;5;167;01mValueError\u001b[39;00m(\n\u001b[0;32m    279\u001b[0m         \u001b[38;5;124mf\u001b[39m\u001b[38;5;124m\"\u001b[39m\u001b[38;5;124mIPython won\u001b[39m\u001b[38;5;124m'\u001b[39m\u001b[38;5;124mt let you open fd=\u001b[39m\u001b[38;5;132;01m{\u001b[39;00mfile\u001b[38;5;132;01m}\u001b[39;00m\u001b[38;5;124m by default \u001b[39m\u001b[38;5;124m\"\u001b[39m\n\u001b[0;32m    280\u001b[0m         \u001b[38;5;124m\"\u001b[39m\u001b[38;5;124mas it is likely to crash IPython. If you know what you are doing, \u001b[39m\u001b[38;5;124m\"\u001b[39m\n\u001b[0;32m    281\u001b[0m         \u001b[38;5;124m\"\u001b[39m\u001b[38;5;124myou can use builtins\u001b[39m\u001b[38;5;124m'\u001b[39m\u001b[38;5;124m open.\u001b[39m\u001b[38;5;124m\"\u001b[39m\n\u001b[0;32m    282\u001b[0m     )\n\u001b[1;32m--> 284\u001b[0m \u001b[38;5;28;01mreturn\u001b[39;00m io_open(file, \u001b[38;5;241m*\u001b[39margs, \u001b[38;5;241m*\u001b[39m\u001b[38;5;241m*\u001b[39mkwargs)\n",
      "\u001b[1;31mFileNotFoundError\u001b[0m: [Errno 2] No such file or directory: 'simple/readme.txt'"
     ]
    }
   ],
   "source": [
    "with open(r'simple/readme.txt', 'w') as dane:\n",
    "    dane.write('Create a new text file!')"
   ]
  },
  {
   "cell_type": "code",
   "execution_count": 2,
   "id": "4f34a31d",
   "metadata": {},
   "outputs": [
    {
     "name": "stdout",
     "output_type": "stream",
     "text": [
      "Package                       Version\n",
      "----------------------------- ---------------\n",
      "aiobotocore                   2.4.2\n",
      "aiofiles                      22.1.0\n",
      "aiohttp                       3.8.3\n",
      "aioitertools                  0.7.1\n",
      "aiosignal                     1.2.0\n",
      "aiosqlite                     0.18.0\n",
      "alabaster                     0.7.12\n",
      "anaconda-catalogs             0.2.0\n",
      "anaconda-client               1.11.3\n",
      "anaconda-navigator            2.4.2\n",
      "anaconda-project              0.11.1\n",
      "anyio                         3.5.0\n",
      "appdirs                       1.4.4\n",
      "argon2-cffi                   21.3.0\n",
      "argon2-cffi-bindings          21.2.0\n",
      "arrow                         1.2.3\n",
      "astroid                       2.14.2\n",
      "astropy                       5.1\n",
      "asttokens                     2.0.5\n",
      "async-timeout                 4.0.2\n",
      "atomicwrites                  1.4.0\n",
      "attrs                         22.1.0\n",
      "Automat                       20.2.0\n",
      "autopep8                      1.6.0\n",
      "Babel                         2.11.0\n",
      "backcall                      0.2.0\n",
      "backports.functools-lru-cache 1.6.4\n",
      "backports.tempfile            1.0\n",
      "backports.weakref             1.0.post1\n",
      "bcrypt                        3.2.0\n",
      "beautifulsoup4                4.12.2\n",
      "binaryornot                   0.4.4\n",
      "black                         0.0\n",
      "bleach                        4.1.0\n",
      "bokeh                         3.1.1\n",
      "boltons                       23.0.0\n",
      "boto3                         1.24.28\n",
      "botocore                      1.27.59\n",
      "Bottleneck                    1.3.5\n",
      "brotlipy                      0.7.0\n",
      "certifi                       2023.5.7\n",
      "cffi                          1.15.1\n",
      "chardet                       4.0.0\n",
      "charset-normalizer            2.0.4\n",
      "click                         8.0.4\n",
      "cloudpickle                   2.2.1\n",
      "clyent                        1.2.2\n",
      "colorama                      0.4.6\n",
      "colorcet                      3.0.1\n",
      "comm                          0.1.2\n",
      "conda                         23.5.2\n",
      "conda-build                   3.25.0\n",
      "conda-content-trust           0.1.3\n",
      "conda_index                   0.2.3\n",
      "conda-libmamba-solver         23.5.0\n",
      "conda-pack                    0.6.0\n",
      "conda-package-handling        2.1.0\n",
      "conda_package_streaming       0.8.0\n",
      "conda-repo-cli                1.0.41\n",
      "conda-token                   0.4.0\n",
      "conda-verify                  3.4.2\n",
      "constantly                    15.1.0\n",
      "contourpy                     1.0.5\n",
      "cookiecutter                  1.7.3\n",
      "cryptography                  39.0.1\n",
      "cssselect                     1.1.0\n",
      "cycler                        0.11.0\n",
      "cytoolz                       0.12.0\n",
      "daal4py                       2023.1.1\n",
      "dask                          2023.6.0\n",
      "datashader                    0.15.0\n",
      "datashape                     0.5.4\n",
      "debugpy                       1.5.1\n",
      "decorator                     5.1.1\n",
      "defusedxml                    0.7.1\n",
      "diff-match-patch              20200713\n",
      "dill                          0.3.6\n",
      "distributed                   2023.6.0\n",
      "docstring-to-markdown         0.11\n",
      "docutils                      0.18.1\n",
      "entrypoints                   0.4\n",
      "et-xmlfile                    1.1.0\n",
      "executing                     0.8.3\n",
      "fastjsonschema                2.16.2\n",
      "filelock                      3.9.0\n",
      "flake8                        6.0.0\n",
      "Flask                         2.2.2\n",
      "fonttools                     4.25.0\n",
      "frozenlist                    1.3.3\n",
      "fsspec                        2023.3.0\n",
      "future                        0.18.3\n",
      "gensim                        4.3.0\n",
      "glob2                         0.7\n",
      "greenlet                      2.0.1\n",
      "h5py                          3.7.0\n",
      "HeapDict                      1.0.1\n",
      "holoviews                     1.16.2\n",
      "hvplot                        0.8.4\n",
      "hyperlink                     21.0.0\n",
      "idna                          3.4\n",
      "imagecodecs                   2021.8.26\n",
      "imageio                       2.26.0\n",
      "imagesize                     1.4.1\n",
      "imbalanced-learn              0.10.1\n",
      "importlib-metadata            6.0.0\n",
      "incremental                   21.3.0\n",
      "inflection                    0.5.1\n",
      "iniconfig                     1.1.1\n",
      "intake                        0.6.8\n",
      "intervaltree                  3.1.0\n",
      "ipykernel                     6.19.2\n",
      "ipython                       8.12.0\n",
      "ipython-genutils              0.2.0\n",
      "ipywidgets                    8.0.4\n",
      "isort                         5.9.3\n",
      "itemadapter                   0.3.0\n",
      "itemloaders                   1.0.4\n",
      "itsdangerous                  2.0.1\n",
      "jaraco.classes                3.2.1\n",
      "jedi                          0.18.1\n",
      "jellyfish                     0.9.0\n",
      "Jinja2                        3.1.2\n",
      "jinja2-time                   0.2.0\n",
      "jmespath                      0.10.0\n",
      "joblib                        1.2.0\n",
      "json5                         0.9.6\n",
      "jsonpatch                     1.32\n",
      "jsonpointer                   2.1\n",
      "jsonschema                    4.17.3\n",
      "jupyter                       1.0.0\n",
      "jupyter_client                8.1.0\n",
      "jupyter-console               6.6.3\n",
      "jupyter_core                  5.3.0\n",
      "jupyter-events                0.6.3\n",
      "jupyter_server                2.5.0\n",
      "jupyter_server_fileid         0.9.0\n",
      "jupyter_server_terminals      0.4.4\n",
      "jupyter_server_ydoc           0.8.0\n",
      "jupyter-ydoc                  0.2.4\n",
      "jupyterlab                    3.6.3\n",
      "jupyterlab-pygments           0.1.2\n",
      "jupyterlab_server             2.22.0\n",
      "jupyterlab-widgets            3.0.5\n",
      "keyring                       23.13.1\n",
      "kiwisolver                    1.4.4\n",
      "lazy_loader                   0.2\n",
      "lazy-object-proxy             1.6.0\n",
      "libarchive-c                  2.9\n",
      "libmambapy                    1.4.1\n",
      "linkify-it-py                 2.0.0\n",
      "llvmlite                      0.40.0\n",
      "lmdb                          1.4.1\n",
      "locket                        1.0.0\n",
      "lxml                          4.9.2\n",
      "lz4                           4.3.2\n",
      "Markdown                      3.4.1\n",
      "markdown-it-py                2.2.0\n",
      "MarkupSafe                    2.1.1\n",
      "matplotlib                    3.7.1\n",
      "matplotlib-inline             0.1.6\n",
      "mccabe                        0.7.0\n",
      "mdit-py-plugins               0.3.0\n",
      "mdurl                         0.1.0\n",
      "menuinst                      1.4.19\n",
      "mistune                       0.8.4\n",
      "mkl-fft                       1.3.6\n",
      "mkl-random                    1.2.2\n",
      "mkl-service                   2.4.0\n",
      "more-itertools                8.12.0\n",
      "mpmath                        1.2.1\n",
      "msgpack                       1.0.3\n",
      "multidict                     6.0.2\n",
      "multipledispatch              0.6.0\n",
      "munkres                       1.1.4\n",
      "mypy-extensions               0.4.3\n",
      "navigator-updater             0.4.0\n",
      "nbclassic                     0.5.5\n",
      "nbclient                      0.5.13\n",
      "nbconvert                     6.5.4\n",
      "nbformat                      5.7.0\n",
      "nest-asyncio                  1.5.6\n",
      "networkx                      2.8.4\n",
      "nltk                          3.7\n",
      "notebook                      6.5.4\n",
      "notebook_shim                 0.2.2\n",
      "numba                         0.57.0\n",
      "numexpr                       2.8.4\n",
      "numpy                         1.24.3\n",
      "numpydoc                      1.5.0\n",
      "openpyxl                      3.0.10\n",
      "packaging                     23.0\n",
      "pandas                        1.5.3\n",
      "pandocfilters                 1.5.0\n",
      "panel                         1.1.0\n",
      "param                         1.13.0\n",
      "paramiko                      2.8.1\n",
      "parsel                        1.6.0\n",
      "parso                         0.8.3\n",
      "partd                         1.2.0\n",
      "pathlib                       1.0.1\n",
      "pathspec                      0.10.3\n",
      "patsy                         0.5.3\n",
      "pep8                          1.7.1\n",
      "pexpect                       4.8.0\n",
      "pickleshare                   0.7.5\n",
      "Pillow                        9.4.0\n",
      "pip                           23.1.2\n",
      "pkginfo                       1.9.6\n",
      "platformdirs                  2.5.2\n",
      "plotly                        5.9.0\n",
      "pluggy                        1.0.0\n",
      "ply                           3.11\n",
      "pooch                         1.4.0\n",
      "poyo                          0.5.0\n",
      "prometheus-client             0.14.1\n",
      "prompt-toolkit                3.0.36\n",
      "Protego                       0.1.16\n",
      "psutil                        5.9.0\n",
      "ptyprocess                    0.7.0\n",
      "pure-eval                     0.2.2\n",
      "py-cpuinfo                    8.0.0\n",
      "pyarrow                       11.0.0\n",
      "pyasn1                        0.4.8\n",
      "pyasn1-modules                0.2.8\n",
      "pycodestyle                   2.10.0\n",
      "pycosat                       0.6.4\n",
      "pycparser                     2.21\n",
      "pyct                          0.5.0\n",
      "pycurl                        7.45.2\n",
      "PyDispatcher                  2.0.5\n",
      "pydocstyle                    6.3.0\n",
      "pyerfa                        2.0.0\n",
      "pyflakes                      3.0.1\n",
      "Pygments                      2.15.1\n",
      "PyJWT                         2.4.0\n",
      "pylint                        2.16.2\n",
      "pylint-venv                   2.3.0\n",
      "pyls-spyder                   0.4.0\n",
      "PyNaCl                        1.5.0\n",
      "pyodbc                        4.0.34\n",
      "pyOpenSSL                     23.0.0\n",
      "pyparsing                     3.0.9\n",
      "PyQt5                         5.15.7\n",
      "PyQt5-sip                     12.11.0\n",
      "PyQtWebEngine                 5.15.4\n",
      "pyrsistent                    0.18.0\n",
      "PySocks                       1.7.1\n",
      "pytest                        7.3.1\n",
      "python-dateutil               2.8.2\n",
      "python-json-logger            2.0.7\n",
      "python-lsp-black              1.2.1\n",
      "python-lsp-jsonrpc            1.0.0\n",
      "python-lsp-server             1.7.2\n",
      "python-slugify                5.0.2\n",
      "python-snappy                 0.6.1\n",
      "pytoolconfig                  1.2.5\n",
      "pytz                          2022.7\n",
      "pyviz-comms                   2.3.0\n",
      "PyWavelets                    1.4.1\n",
      "pywin32                       305.1\n",
      "pywin32-ctypes                0.2.0\n",
      "pywinpty                      2.0.10\n",
      "PyYAML                        6.0\n",
      "pyzmq                         25.1.0\n",
      "QDarkStyle                    3.0.2\n",
      "qstylizer                     0.2.2\n",
      "QtAwesome                     1.2.2\n",
      "qtconsole                     5.4.2\n",
      "QtPy                          2.2.0\n",
      "queuelib                      1.5.0\n",
      "regex                         2022.7.9\n",
      "requests                      2.29.0\n",
      "requests-file                 1.5.1\n",
      "requests-toolbelt             0.9.1\n",
      "rfc3339-validator             0.1.4\n",
      "rfc3986-validator             0.1.1\n",
      "rope                          1.7.0\n",
      "Rtree                         1.0.1\n",
      "ruamel.yaml                   0.17.21\n",
      "ruamel-yaml-conda             0.17.21\n",
      "s3fs                          2023.3.0\n",
      "s3transfer                    0.6.0\n",
      "sacremoses                    0.0.43\n",
      "scikit-image                  0.20.0\n",
      "scikit-learn                  1.2.2\n",
      "scikit-learn-intelex          20230426.121932\n",
      "scipy                         1.10.1\n",
      "Scrapy                        2.8.0\n",
      "seaborn                       0.12.2\n",
      "Send2Trash                    1.8.0\n",
      "service-identity              18.1.0\n",
      "setuptools                    67.8.0\n",
      "sip                           6.6.2\n",
      "six                           1.16.0\n",
      "smart-open                    5.2.1\n",
      "sniffio                       1.2.0\n",
      "snowballstemmer               2.2.0\n",
      "sortedcontainers              2.4.0\n",
      "soupsieve                     2.4\n",
      "Sphinx                        5.0.2\n",
      "sphinxcontrib-applehelp       1.0.2\n",
      "sphinxcontrib-devhelp         1.0.2\n",
      "sphinxcontrib-htmlhelp        2.0.0\n",
      "sphinxcontrib-jsmath          1.0.1\n",
      "sphinxcontrib-qthelp          1.0.3\n",
      "sphinxcontrib-serializinghtml 1.1.5\n",
      "spyder                        5.4.3\n",
      "spyder-kernels                2.4.3\n",
      "SQLAlchemy                    1.4.39\n",
      "stack-data                    0.2.0\n",
      "statsmodels                   0.13.5\n",
      "sympy                         1.11.1\n",
      "tables                        3.8.0\n",
      "tabulate                      0.8.10\n",
      "TBB                           0.2\n",
      "tblib                         1.7.0\n",
      "tenacity                      8.2.2\n",
      "terminado                     0.17.1\n",
      "text-unidecode                1.3\n",
      "textdistance                  4.2.1\n",
      "threadpoolctl                 2.2.0\n",
      "three-merge                   0.1.1\n",
      "tifffile                      2021.7.2\n",
      "tinycss2                      1.2.1\n",
      "tldextract                    3.2.0\n",
      "toml                          0.10.2\n",
      "tomli                         2.0.1\n",
      "tomlkit                       0.11.1\n",
      "toolz                         0.12.0\n",
      "tornado                       6.2\n",
      "tqdm                          4.65.0\n",
      "traitlets                     5.7.1\n",
      "transformers                  2.1.1\n",
      "Twisted                       22.10.0\n",
      "twisted-iocpsupport           1.0.2\n",
      "typing_extensions             4.6.3\n",
      "uc-micro-py                   1.0.1\n",
      "ujson                         5.4.0\n",
      "Unidecode                     1.2.0\n",
      "urllib3                       1.26.16\n",
      "w3lib                         1.21.0\n",
      "watchdog                      2.1.6\n",
      "wcwidth                       0.2.5\n",
      "webencodings                  0.5.1\n",
      "websocket-client              0.58.0\n",
      "Werkzeug                      2.2.3\n",
      "whatthepatch                  1.0.2\n",
      "wheel                         0.38.4\n",
      "widgetsnbextension            4.0.5\n",
      "win-inet-pton                 1.1.0\n",
      "wrapt                         1.14.1\n",
      "xarray                        2022.11.0\n",
      "xlwings                       0.29.1\n",
      "xyzservices                   2022.9.0\n",
      "y-py                          0.5.9\n",
      "yapf                          0.31.0\n",
      "yarl                          1.8.1\n",
      "ypy-websocket                 0.8.2\n",
      "zict                          2.2.0\n",
      "zipp                          3.11.0\n",
      "zope.interface                5.4.0\n",
      "zstandard                     0.19.0\n",
      "Note: you may need to restart the kernel to use updated packages.\n"
     ]
    }
   ],
   "source": [
    "pip list"
   ]
  },
  {
   "cell_type": "code",
   "execution_count": 7,
   "id": "b44fd9fd",
   "metadata": {},
   "outputs": [
    {
     "name": "stdout",
     "output_type": "stream",
     "text": [
      "['simple']\n"
     ]
    }
   ],
   "source": [
    "import os\n",
    "\n",
    "# list files from a working directory\n",
    "print(os.listdir(r\"C:\\Users\\Zosia\\Documents\\szkola\\liceum\\4 klasa\\coding projects\\python exercises\"))"
   ]
  },
  {
   "cell_type": "code",
   "execution_count": 9,
   "id": "31139bb4",
   "metadata": {},
   "outputs": [
    {
     "ename": "PermissionError",
     "evalue": "[Errno 13] Permission denied: 'C:\\\\Users\\\\Zosia\\\\Documents\\\\szkola\\\\liceum\\\\4 klasa\\\\coding projects\\\\python exercises'",
     "output_type": "error",
     "traceback": [
      "\u001b[1;31m---------------------------------------------------------------------------\u001b[0m",
      "\u001b[1;31mPermissionError\u001b[0m                           Traceback (most recent call last)",
      "Cell \u001b[1;32mIn[9], line 2\u001b[0m\n\u001b[0;32m      1\u001b[0m path \u001b[38;5;241m=\u001b[39m \u001b[38;5;124mr\u001b[39m\u001b[38;5;124m'\u001b[39m\u001b[38;5;124mC:\u001b[39m\u001b[38;5;124m\\\u001b[39m\u001b[38;5;124mUsers\u001b[39m\u001b[38;5;124m\\\u001b[39m\u001b[38;5;124mZosia\u001b[39m\u001b[38;5;124m\\\u001b[39m\u001b[38;5;124mDocuments\u001b[39m\u001b[38;5;124m\\\u001b[39m\u001b[38;5;124mszkola\u001b[39m\u001b[38;5;124m\\\u001b[39m\u001b[38;5;124mliceum\u001b[39m\u001b[38;5;124m\\\u001b[39m\u001b[38;5;124m4 klasa\u001b[39m\u001b[38;5;124m\\\u001b[39m\u001b[38;5;124mcoding projects\u001b[39m\u001b[38;5;124m\\\u001b[39m\u001b[38;5;124mpython exercises\u001b[39m\u001b[38;5;124m'\u001b[39m\n\u001b[1;32m----> 2\u001b[0m \u001b[38;5;28;01mwith\u001b[39;00m \u001b[38;5;28mopen\u001b[39m(path, \u001b[38;5;124m'\u001b[39m\u001b[38;5;124mw\u001b[39m\u001b[38;5;124m'\u001b[39m) \u001b[38;5;28;01mas\u001b[39;00m f:\n\u001b[0;32m      3\u001b[0m     f\u001b[38;5;241m.\u001b[39mwrite(\u001b[38;5;124m'\u001b[39m\u001b[38;5;124mCreate a new text file!\u001b[39m\u001b[38;5;124m'\u001b[39m)\n",
      "File \u001b[1;32m~\\anaconda3\\Lib\\site-packages\\IPython\\core\\interactiveshell.py:284\u001b[0m, in \u001b[0;36m_modified_open\u001b[1;34m(file, *args, **kwargs)\u001b[0m\n\u001b[0;32m    277\u001b[0m \u001b[38;5;28;01mif\u001b[39;00m file \u001b[38;5;129;01min\u001b[39;00m {\u001b[38;5;241m0\u001b[39m, \u001b[38;5;241m1\u001b[39m, \u001b[38;5;241m2\u001b[39m}:\n\u001b[0;32m    278\u001b[0m     \u001b[38;5;28;01mraise\u001b[39;00m \u001b[38;5;167;01mValueError\u001b[39;00m(\n\u001b[0;32m    279\u001b[0m         \u001b[38;5;124mf\u001b[39m\u001b[38;5;124m\"\u001b[39m\u001b[38;5;124mIPython won\u001b[39m\u001b[38;5;124m'\u001b[39m\u001b[38;5;124mt let you open fd=\u001b[39m\u001b[38;5;132;01m{\u001b[39;00mfile\u001b[38;5;132;01m}\u001b[39;00m\u001b[38;5;124m by default \u001b[39m\u001b[38;5;124m\"\u001b[39m\n\u001b[0;32m    280\u001b[0m         \u001b[38;5;124m\"\u001b[39m\u001b[38;5;124mas it is likely to crash IPython. If you know what you are doing, \u001b[39m\u001b[38;5;124m\"\u001b[39m\n\u001b[0;32m    281\u001b[0m         \u001b[38;5;124m\"\u001b[39m\u001b[38;5;124myou can use builtins\u001b[39m\u001b[38;5;124m'\u001b[39m\u001b[38;5;124m open.\u001b[39m\u001b[38;5;124m\"\u001b[39m\n\u001b[0;32m    282\u001b[0m     )\n\u001b[1;32m--> 284\u001b[0m \u001b[38;5;28;01mreturn\u001b[39;00m io_open(file, \u001b[38;5;241m*\u001b[39margs, \u001b[38;5;241m*\u001b[39m\u001b[38;5;241m*\u001b[39mkwargs)\n",
      "\u001b[1;31mPermissionError\u001b[0m: [Errno 13] Permission denied: 'C:\\\\Users\\\\Zosia\\\\Documents\\\\szkola\\\\liceum\\\\4 klasa\\\\coding projects\\\\python exercises'"
     ]
    }
   ],
   "source": [
    "path = r'C:\\Users\\Zosia\\Documents\\szkola\\liceum\\4 klasa\\coding projects\\python exercises'\n",
    "with open(path, 'w') as f:\n",
    "    f.write('Create a new text file!')"
   ]
  },
  {
   "cell_type": "code",
   "execution_count": 10,
   "id": "588a8004",
   "metadata": {},
   "outputs": [],
   "source": [
    "#the permission error probably results from antivirus protecting the main folder"
   ]
  },
  {
   "cell_type": "code",
   "execution_count": 35,
   "id": "fcccd117",
   "metadata": {},
   "outputs": [],
   "source": [
    "age='wiek'\n",
    "import json\n",
    "dane={}\n",
    "dane['os1'] ={\n",
    "    'imie' : 'Zosia',\n",
    "    age: 15\n",
    "}\n",
    "json.dumps(dane)\n",
    "path = r'C:\\Users\\Zosia\\Documents\\szkola\\liceum\\4 klasa\\coding projects\\python exercises'\n",
    "file_name = 'dane.txt'\n",
    "\n",
    "with open(os.path.join(path,file_name),'w') as f:\n",
    "    f.write(json.dumps(dane))\n",
    "    \n",
    "#here accessing the files works -- use the path join method"
   ]
  },
  {
   "cell_type": "code",
   "execution_count": 36,
   "id": "94563159",
   "metadata": {},
   "outputs": [
    {
     "data": {
      "text/plain": [
       "'{\"os1\": {\"imie\": \"Zosia\", \"wiek\": 15}}'"
      ]
     },
     "execution_count": 36,
     "metadata": {},
     "output_type": "execute_result"
    }
   ],
   "source": [
    "s=open(r'C:\\Users\\Zosia\\Documents\\szkola\\liceum\\4 klasa\\coding projects\\python exercises\\dane.txt','r').read()\n",
    "s"
   ]
  },
  {
   "cell_type": "code",
   "execution_count": 29,
   "id": "93490f90",
   "metadata": {},
   "outputs": [
    {
     "data": {
      "text/plain": [
       "{'os1': {'imie': 'Zosia', 'wiek': 15}}"
      ]
     },
     "execution_count": 29,
     "metadata": {},
     "output_type": "execute_result"
    }
   ],
   "source": [
    "json.loads(s)"
   ]
  },
  {
   "cell_type": "code",
   "execution_count": 31,
   "id": "88e2ac59",
   "metadata": {},
   "outputs": [
    {
     "data": {
      "text/plain": [
       "dict"
      ]
     },
     "execution_count": 31,
     "metadata": {},
     "output_type": "execute_result"
    }
   ],
   "source": [
    "type(s)\n",
    "type(json.loads(s))"
   ]
  },
  {
   "cell_type": "code",
   "execution_count": 32,
   "id": "bb6e6564",
   "metadata": {},
   "outputs": [
    {
     "data": {
      "text/plain": [
       "{'imie': 'Zosia', 'wiek': 15}"
      ]
     },
     "execution_count": 32,
     "metadata": {},
     "output_type": "execute_result"
    }
   ],
   "source": [
    "dane['os1']"
   ]
  },
  {
   "cell_type": "code",
   "execution_count": 33,
   "id": "78383317",
   "metadata": {},
   "outputs": [
    {
     "data": {
      "text/plain": [
       "'Zosia'"
      ]
     },
     "execution_count": 33,
     "metadata": {},
     "output_type": "execute_result"
    }
   ],
   "source": [
    "dane['os1']['imie']"
   ]
  },
  {
   "cell_type": "code",
   "execution_count": 39,
   "id": "2f141305",
   "metadata": {},
   "outputs": [
    {
     "ename": "TypeError",
     "evalue": "dump() missing 1 required positional argument: 'fp'",
     "output_type": "error",
     "traceback": [
      "\u001b[1;31m---------------------------------------------------------------------------\u001b[0m",
      "\u001b[1;31mTypeError\u001b[0m                                 Traceback (most recent call last)",
      "Cell \u001b[1;32mIn[39], line 5\u001b[0m\n\u001b[0;32m      1\u001b[0m dane[\u001b[38;5;124m'\u001b[39m\u001b[38;5;124mos2\u001b[39m\u001b[38;5;124m'\u001b[39m] \u001b[38;5;241m=\u001b[39m{\n\u001b[0;32m      2\u001b[0m     \u001b[38;5;124m'\u001b[39m\u001b[38;5;124mimie\u001b[39m\u001b[38;5;124m'\u001b[39m : \u001b[38;5;124m'\u001b[39m\u001b[38;5;124mHania\u001b[39m\u001b[38;5;124m'\u001b[39m,\n\u001b[0;32m      3\u001b[0m     \u001b[38;5;124m'\u001b[39m\u001b[38;5;124mcena\u001b[39m\u001b[38;5;124m'\u001b[39m: \u001b[38;5;241m17\u001b[39m\n\u001b[0;32m      4\u001b[0m }\n\u001b[1;32m----> 5\u001b[0m json\u001b[38;5;241m.\u001b[39mdump(dane)\n\u001b[0;32m      6\u001b[0m \u001b[38;5;28;01mwith\u001b[39;00m \u001b[38;5;28mopen\u001b[39m(os\u001b[38;5;241m.\u001b[39mpath\u001b[38;5;241m.\u001b[39mjoin(path,file_name),\u001b[38;5;124m'\u001b[39m\u001b[38;5;124ma\u001b[39m\u001b[38;5;124m'\u001b[39m) \u001b[38;5;28;01mas\u001b[39;00m f:\n\u001b[0;32m      7\u001b[0m     f\u001b[38;5;241m.\u001b[39mwrite(json\u001b[38;5;241m.\u001b[39mdumps(dane))\n",
      "\u001b[1;31mTypeError\u001b[0m: dump() missing 1 required positional argument: 'fp'"
     ]
    }
   ],
   "source": [
    "dane['os2'] ={\n",
    "    'imie' : 'Hania',\n",
    "    'cena': 17\n",
    "}\n",
    "json.dump(dane)\n",
    "with open(os.path.join(path,file_name),'a') as f:\n",
    "    f.write(json.dumps(dane))"
   ]
  },
  {
   "cell_type": "code",
   "execution_count": 37,
   "id": "e1bdd4f4",
   "metadata": {},
   "outputs": [
    {
     "data": {
      "text/plain": [
       "'{\"os1\": {\"imie\": \"Zosia\", \"wiek\": 15}}{\"os1\": {\"imie\": \"Zosia\", \"wiek\": 15}, \"os2\": {\"imie\": \"Hania\", \"cena\": 17}}'"
      ]
     },
     "execution_count": 37,
     "metadata": {},
     "output_type": "execute_result"
    }
   ],
   "source": [
    "s=open(r'C:\\Users\\Zosia\\Documents\\szkola\\liceum\\4 klasa\\coding projects\\python exercises\\dane.txt','r').read()\n",
    "s"
   ]
  },
  {
   "cell_type": "code",
   "execution_count": 38,
   "id": "15aa674f",
   "metadata": {},
   "outputs": [
    {
     "data": {
      "text/plain": [
       "['JSONDecodeError',\n",
       " 'JSONDecoder',\n",
       " 'JSONEncoder',\n",
       " '__all__',\n",
       " '__author__',\n",
       " '__builtins__',\n",
       " '__cached__',\n",
       " '__doc__',\n",
       " '__file__',\n",
       " '__loader__',\n",
       " '__name__',\n",
       " '__package__',\n",
       " '__path__',\n",
       " '__spec__',\n",
       " '__version__',\n",
       " '_default_decoder',\n",
       " '_default_encoder',\n",
       " 'codecs',\n",
       " 'decoder',\n",
       " 'detect_encoding',\n",
       " 'dump',\n",
       " 'dumps',\n",
       " 'encoder',\n",
       " 'load',\n",
       " 'loads',\n",
       " 'scanner']"
      ]
     },
     "execution_count": 38,
     "metadata": {},
     "output_type": "execute_result"
    }
   ],
   "source": [
    "dir(json)"
   ]
  },
  {
   "cell_type": "code",
   "execution_count": 40,
   "id": "869d2323",
   "metadata": {},
   "outputs": [
    {
     "ename": "AttributeError",
     "evalue": "module 'json' has no attribute 'package'",
     "output_type": "error",
     "traceback": [
      "\u001b[1;31m---------------------------------------------------------------------------\u001b[0m",
      "\u001b[1;31mAttributeError\u001b[0m                            Traceback (most recent call last)",
      "Cell \u001b[1;32mIn[40], line 1\u001b[0m\n\u001b[1;32m----> 1\u001b[0m json\u001b[38;5;241m.\u001b[39mpackage()\n",
      "\u001b[1;31mAttributeError\u001b[0m: module 'json' has no attribute 'package'"
     ]
    }
   ],
   "source": [
    "json.package()"
   ]
  },
  {
   "cell_type": "code",
   "execution_count": 25,
   "id": "71041c58",
   "metadata": {},
   "outputs": [
    {
     "data": {
      "text/plain": [
       "'{\"os1\": {\"imie\": \"Zosia\", \"wiek\": 15}}{\"imie\": \"Hania\", \"cena\": 17}'"
      ]
     },
     "execution_count": 25,
     "metadata": {},
     "output_type": "execute_result"
    }
   ],
   "source": [
    "with open(os.path.join(path,file_name), 'r') as fp:\n",
    "    # read an store all lines into list\n",
    "    lines = fp.readlines()\n",
    "type(lines)\n",
    "lines.pop()\n"
   ]
  },
  {
   "cell_type": "code",
   "execution_count": 50,
   "id": "3c1c8956",
   "metadata": {},
   "outputs": [
    {
     "data": {
      "text/plain": [
       "''"
      ]
     },
     "execution_count": 50,
     "metadata": {},
     "output_type": "execute_result"
    }
   ],
   "source": [
    "with open(os.path.join(path,file_name), 'r+') as fp:\n",
    "    # read and store all lines into list\n",
    "    lines = fp.readlines()\n",
    "    # move file pointer to the beginning of a file\n",
    "    fp.seek(0)\n",
    "    fp.truncate()\n",
    "    # start writing lines except the first line\n",
    "    # lines[1:] from line 2 to last line\n",
    "    fp.writelines(lines[:-1])\n",
    "s=open(r'C:\\Users\\Zosia\\Documents\\szkola\\liceum\\4 klasa\\coding projects\\python exercises\\dane.txt','r').read()\n",
    "s \n",
    "#accidentally deleted everything lol\n",
    "#anyway\n",
    "#idk what that truncate does and what even is that"
   ]
  },
  {
   "cell_type": "code",
   "execution_count": null,
   "id": "4e385459",
   "metadata": {},
   "outputs": [],
   "source": [
    "#stote all of it in a list\n",
    "#then rewrite the file with that list\n",
    "#i dont think thats a great idea"
   ]
  },
  {
   "cell_type": "code",
   "execution_count": 32,
   "id": "fe15e5d7",
   "metadata": {},
   "outputs": [
    {
     "data": {
      "text/plain": [
       "'{\"os1\": {\"imie\": \"Zosia\", \"wiek\": 15}}'"
      ]
     },
     "execution_count": 32,
     "metadata": {},
     "output_type": "execute_result"
    }
   ],
   "source": [
    "age='wiek'\n",
    "dane={}\n",
    "dane['os1'] ={\n",
    "    'imie' : 'Zosia',\n",
    "    age: 15\n",
    "}\n",
    "json.dumps(dane)\n",
    "path = r'C:\\Users\\Zosia\\Documents\\szkola\\liceum\\4 klasa\\coding projects\\python exercises'\n",
    "file_name = 'dane.txt'\n",
    "\n",
    "with open(os.path.join(path,file_name),'w') as f:\n",
    "    f.write(json.dumps(dane))\n",
    "s=open(r'C:\\Users\\Zosia\\Documents\\szkola\\liceum\\4 klasa\\coding projects\\python exercises\\dane.txt','r').read()\n",
    "s\n"
   ]
  },
  {
   "cell_type": "code",
   "execution_count": 37,
   "id": "22ff80b9",
   "metadata": {},
   "outputs": [
    {
     "data": {
      "text/plain": [
       "'{\"os1\": {\"imie\": \"Zosia\", \"wiek\": 15}}{\"os2\": {\"imie\": \"Hania\", \"cena\": 17}}'"
      ]
     },
     "execution_count": 37,
     "metadata": {},
     "output_type": "execute_result"
    }
   ],
   "source": [
    "dane={}\n",
    "dane['os2'] ={\n",
    "    'imie' : 'Hania',\n",
    "    'cena': 17\n",
    "}\n",
    "json.dumps(dane)\n",
    "with open(os.path.join(path,file_name),'a') as f:\n",
    "    f.write(json.dumps(dane))\n",
    "s=open(r'C:\\Users\\Zosia\\Documents\\szkola\\liceum\\4 klasa\\coding projects\\python exercises\\dane.txt','r').read()\n",
    "s"
   ]
  },
  {
   "cell_type": "code",
   "execution_count": 55,
   "id": "33deb9ef",
   "metadata": {},
   "outputs": [],
   "source": [
    "#oh but you can convert what you get from a file to a dictionary then pop that and rewrite\n"
   ]
  },
  {
   "cell_type": "code",
   "execution_count": 30,
   "id": "d67a5f69",
   "metadata": {},
   "outputs": [
    {
     "ename": "ValueError",
     "evalue": "dictionary update sequence element #0 has length 67; 2 is required",
     "output_type": "error",
     "traceback": [
      "\u001b[1;31m---------------------------------------------------------------------------\u001b[0m",
      "\u001b[1;31mValueError\u001b[0m                                Traceback (most recent call last)",
      "Cell \u001b[1;32mIn[30], line 8\u001b[0m\n\u001b[0;32m      5\u001b[0m file_name \u001b[38;5;241m=\u001b[39m \u001b[38;5;124m'\u001b[39m\u001b[38;5;124mdane.txt\u001b[39m\u001b[38;5;124m'\u001b[39m\n\u001b[0;32m      7\u001b[0m \u001b[38;5;28;01mwith\u001b[39;00m \u001b[38;5;28mopen\u001b[39m(os\u001b[38;5;241m.\u001b[39mpath\u001b[38;5;241m.\u001b[39mjoin(path,file_name),\u001b[38;5;124m'\u001b[39m\u001b[38;5;124mr+\u001b[39m\u001b[38;5;124m'\u001b[39m) \u001b[38;5;28;01mas\u001b[39;00m fp:\n\u001b[1;32m----> 8\u001b[0m     lines \u001b[38;5;241m=\u001b[39m \u001b[38;5;28mdict\u001b[39m(fp\u001b[38;5;241m.\u001b[39mreadlines())\n\u001b[0;32m      9\u001b[0m     \u001b[38;5;66;03m# move file pointer to the beginning of a file\u001b[39;00m\n\u001b[0;32m     10\u001b[0m     fp\u001b[38;5;241m.\u001b[39mseek(\u001b[38;5;241m0\u001b[39m)\n",
      "\u001b[1;31mValueError\u001b[0m: dictionary update sequence element #0 has length 67; 2 is required"
     ]
    }
   ],
   "source": [
    "import sys\n",
    "import json\n",
    "import os\n",
    "path = r'C:\\Users\\Zosia\\Documents\\szkola\\liceum\\4 klasa\\coding projects\\python exercises'\n",
    "file_name = 'dane.txt'\n",
    "\n",
    "with open(os.path.join(path,file_name),'r+') as fp:\n",
    "    lines = dict(fp.readlines())\n",
    "    # move file pointer to the beginning of a file\n",
    "    fp.seek(0)\n",
    "    fp.truncate()\n",
    "    # start writing lines except the first line\n",
    "    # lines[1:] from line 2 to last line\n",
    "    #lines.popitem()\n",
    "    fp.write(lines)\n",
    "s=open(r'C:\\Users\\Zosia\\Documents\\szkola\\liceum\\4 klasa\\coding projects\\python exercises\\dane.txt','r').read()\n",
    "s\n",
    "\n",
    "#idk cos tutaj nie wychodzi idk co tu sie dzieje boze"
   ]
  },
  {
   "cell_type": "code",
   "execution_count": 10,
   "id": "863717c4",
   "metadata": {},
   "outputs": [
    {
     "data": {
      "text/plain": [
       "''"
      ]
     },
     "execution_count": 10,
     "metadata": {},
     "output_type": "execute_result"
    }
   ],
   "source": [
    "s=open(r'C:\\Users\\Zosia\\Documents\\szkola\\liceum\\4 klasa\\coding projects\\python exercises\\dane.txt','r').read()\n",
    "s"
   ]
  },
  {
   "cell_type": "code",
   "execution_count": 34,
   "id": "ad34680d",
   "metadata": {},
   "outputs": [
    {
     "data": {
      "text/plain": [
       "''"
      ]
     },
     "execution_count": 34,
     "metadata": {},
     "output_type": "execute_result"
    }
   ],
   "source": [
    "with open(os.path.join(path,file_name), 'r+') as fp:\n",
    "    # read an store all lines into list\n",
    "    lines = fp.readlines()\n",
    "    # move file pointer to the beginning of a file\n",
    "    fp.seek(0)\n",
    "    # truncate the file\n",
    "    fp.truncate()\n",
    "\n",
    "    # start writing lines except the first line\n",
    "    # lines[1:] from line 2 to last line\n",
    "    fp.writelines(lines[:-1])\n",
    "s=open(r'C:\\Users\\Zosia\\Documents\\szkola\\liceum\\4 klasa\\coding projects\\python exercises\\dane.txt','r').read()\n",
    "s"
   ]
  },
  {
   "cell_type": "code",
   "execution_count": 23,
   "id": "fc8e09fe",
   "metadata": {},
   "outputs": [
    {
     "data": {
      "text/plain": [
       "'{\"os1\": {\"imie\": \"Zosia\", \"wiek\": 15}}{\"imie\": \"Hania\", \"cena\": 17}'"
      ]
     },
     "execution_count": 23,
     "metadata": {},
     "output_type": "execute_result"
    }
   ],
   "source": [
    "s=open(r'C:\\Users\\Zosia\\Documents\\szkola\\liceum\\4 klasa\\coding projects\\python exercises\\dane.txt','r').read()\n",
    "s"
   ]
  },
  {
   "cell_type": "code",
   "execution_count": 20,
   "id": "d03bd771",
   "metadata": {},
   "outputs": [],
   "source": [
    "test = [1,'l', 145, 'heyp', .1]"
   ]
  },
  {
   "cell_type": "code",
   "execution_count": 21,
   "id": "853add61",
   "metadata": {},
   "outputs": [
    {
     "data": {
      "text/plain": [
       "[1, 'l', 145, 'heyp']"
      ]
     },
     "execution_count": 21,
     "metadata": {},
     "output_type": "execute_result"
    }
   ],
   "source": [
    "test[:-1]"
   ]
  },
  {
   "cell_type": "markdown",
   "id": "679064f2",
   "metadata": {},
   "source": [
    "zrobić funkcje na usuwanie wybranego indexu z json file "
   ]
  },
  {
   "cell_type": "code",
   "execution_count": 39,
   "id": "17011bbd",
   "metadata": {},
   "outputs": [
    {
     "ename": "JSONDecodeError",
     "evalue": "Extra data: line 1 column 39 (char 38)",
     "output_type": "error",
     "traceback": [
      "\u001b[1;31m---------------------------------------------------------------------------\u001b[0m",
      "\u001b[1;31mJSONDecodeError\u001b[0m                           Traceback (most recent call last)",
      "Cell \u001b[1;32mIn[39], line 4\u001b[0m\n\u001b[0;32m      2\u001b[0m s\n\u001b[0;32m      3\u001b[0m \u001b[38;5;28;01mimport\u001b[39;00m \u001b[38;5;21;01mjson\u001b[39;00m\n\u001b[1;32m----> 4\u001b[0m json\u001b[38;5;241m.\u001b[39mloads(s)\n",
      "File \u001b[1;32m~\\anaconda3\\Lib\\json\\__init__.py:346\u001b[0m, in \u001b[0;36mloads\u001b[1;34m(s, cls, object_hook, parse_float, parse_int, parse_constant, object_pairs_hook, **kw)\u001b[0m\n\u001b[0;32m    341\u001b[0m     s \u001b[38;5;241m=\u001b[39m s\u001b[38;5;241m.\u001b[39mdecode(detect_encoding(s), \u001b[38;5;124m'\u001b[39m\u001b[38;5;124msurrogatepass\u001b[39m\u001b[38;5;124m'\u001b[39m)\n\u001b[0;32m    343\u001b[0m \u001b[38;5;28;01mif\u001b[39;00m (\u001b[38;5;28mcls\u001b[39m \u001b[38;5;129;01mis\u001b[39;00m \u001b[38;5;28;01mNone\u001b[39;00m \u001b[38;5;129;01mand\u001b[39;00m object_hook \u001b[38;5;129;01mis\u001b[39;00m \u001b[38;5;28;01mNone\u001b[39;00m \u001b[38;5;129;01mand\u001b[39;00m\n\u001b[0;32m    344\u001b[0m         parse_int \u001b[38;5;129;01mis\u001b[39;00m \u001b[38;5;28;01mNone\u001b[39;00m \u001b[38;5;129;01mand\u001b[39;00m parse_float \u001b[38;5;129;01mis\u001b[39;00m \u001b[38;5;28;01mNone\u001b[39;00m \u001b[38;5;129;01mand\u001b[39;00m\n\u001b[0;32m    345\u001b[0m         parse_constant \u001b[38;5;129;01mis\u001b[39;00m \u001b[38;5;28;01mNone\u001b[39;00m \u001b[38;5;129;01mand\u001b[39;00m object_pairs_hook \u001b[38;5;129;01mis\u001b[39;00m \u001b[38;5;28;01mNone\u001b[39;00m \u001b[38;5;129;01mand\u001b[39;00m \u001b[38;5;129;01mnot\u001b[39;00m kw):\n\u001b[1;32m--> 346\u001b[0m     \u001b[38;5;28;01mreturn\u001b[39;00m _default_decoder\u001b[38;5;241m.\u001b[39mdecode(s)\n\u001b[0;32m    347\u001b[0m \u001b[38;5;28;01mif\u001b[39;00m \u001b[38;5;28mcls\u001b[39m \u001b[38;5;129;01mis\u001b[39;00m \u001b[38;5;28;01mNone\u001b[39;00m:\n\u001b[0;32m    348\u001b[0m     \u001b[38;5;28mcls\u001b[39m \u001b[38;5;241m=\u001b[39m JSONDecoder\n",
      "File \u001b[1;32m~\\anaconda3\\Lib\\json\\decoder.py:340\u001b[0m, in \u001b[0;36mJSONDecoder.decode\u001b[1;34m(self, s, _w)\u001b[0m\n\u001b[0;32m    338\u001b[0m end \u001b[38;5;241m=\u001b[39m _w(s, end)\u001b[38;5;241m.\u001b[39mend()\n\u001b[0;32m    339\u001b[0m \u001b[38;5;28;01mif\u001b[39;00m end \u001b[38;5;241m!=\u001b[39m \u001b[38;5;28mlen\u001b[39m(s):\n\u001b[1;32m--> 340\u001b[0m     \u001b[38;5;28;01mraise\u001b[39;00m JSONDecodeError(\u001b[38;5;124m\"\u001b[39m\u001b[38;5;124mExtra data\u001b[39m\u001b[38;5;124m\"\u001b[39m, s, end)\n\u001b[0;32m    341\u001b[0m \u001b[38;5;28;01mreturn\u001b[39;00m obj\n",
      "\u001b[1;31mJSONDecodeError\u001b[0m: Extra data: line 1 column 39 (char 38)"
     ]
    }
   ],
   "source": [
    "s=open(r'C:\\Users\\Zosia\\Documents\\szkola\\liceum\\4 klasa\\coding projects\\python exercises\\dane.txt','r').read()\n",
    "s\n",
    "import json\n",
    "json.loads(s) #why is it not working wtf is happening"
   ]
  },
  {
   "cell_type": "code",
   "execution_count": 1,
   "id": "c37daa10",
   "metadata": {},
   "outputs": [
    {
     "data": {
      "text/plain": [
       "['Hey', 'i', 'would', 'like', 'a', 'donut']"
      ]
     },
     "execution_count": 1,
     "metadata": {},
     "output_type": "execute_result"
    }
   ],
   "source": [
    "string = 'Hey i would like a donut'\n",
    "token=string.split(' ')\n",
    "token"
   ]
  },
  {
   "cell_type": "code",
   "execution_count": 2,
   "id": "8cb30a86",
   "metadata": {},
   "outputs": [
    {
     "data": {
      "text/plain": [
       "'__main__'"
      ]
     },
     "execution_count": 2,
     "metadata": {},
     "output_type": "execute_result"
    }
   ],
   "source": [
    "__name__"
   ]
  },
  {
   "cell_type": "code",
   "execution_count": 7,
   "id": "ce4e432c",
   "metadata": {},
   "outputs": [
    {
     "name": "stdout",
     "output_type": "stream",
     "text": [
      "Number 1: 2\n",
      "Number 2: 4\n",
      "exception type:  TypeError\n",
      "{} divided by {} is {}\n"
     ]
    },
    {
     "ename": "AttributeError",
     "evalue": "'NoneType' object has no attribute 'format'",
     "output_type": "error",
     "traceback": [
      "\u001b[1;31m---------------------------------------------------------------------------\u001b[0m",
      "\u001b[1;31mAttributeError\u001b[0m                            Traceback (most recent call last)",
      "Cell \u001b[1;32mIn[7], line 9\u001b[0m\n\u001b[0;32m      7\u001b[0m     \u001b[38;5;66;03m#z=None\u001b[39;00m\n\u001b[0;32m      8\u001b[0m     z\u001b[38;5;241m=\u001b[39m\u001b[38;5;124m'\u001b[39m\u001b[38;5;124mNone\u001b[39m\u001b[38;5;124m'\u001b[39m\n\u001b[1;32m----> 9\u001b[0m \u001b[38;5;28mprint\u001b[39m(\u001b[38;5;124m'\u001b[39m\u001b[38;5;132;01m{}\u001b[39;00m\u001b[38;5;124m divided by \u001b[39m\u001b[38;5;132;01m{}\u001b[39;00m\u001b[38;5;124m is \u001b[39m\u001b[38;5;132;01m{}\u001b[39;00m\u001b[38;5;124m'\u001b[39m)\u001b[38;5;241m.\u001b[39mformat(x,y,z)\n",
      "\u001b[1;31mAttributeError\u001b[0m: 'NoneType' object has no attribute 'format'"
     ]
    }
   ],
   "source": [
    "x=input(\"Number 1: \")\n",
    "y=input(\"Number 2: \")\n",
    "try: \n",
    "    z=int(x)/y\n",
    "except Exception as e:\n",
    "    print('exception type: ', type(e).__name__)\n",
    "    #z=None\n",
    "    z='None'\n",
    "\n",
    "print('{} divided by {} is {}').format(x,y,z)"
   ]
  },
  {
   "cell_type": "code",
   "execution_count": 8,
   "id": "f0402b90",
   "metadata": {},
   "outputs": [
    {
     "name": "stdout",
     "output_type": "stream",
     "text": [
      "Number 1: 3\n",
      "Number 2: 4\n",
      "exception type:  TypeError\n",
      "3  divided by  4  is  None\n"
     ]
    }
   ],
   "source": [
    "x=input(\"Number 1: \")\n",
    "y=input(\"Number 2: \")\n",
    "try: \n",
    "    z=int(x)/y\n",
    "except Exception as e:\n",
    "    print('exception type: ', type(e).__name__)\n",
    "    z=None\n",
    "\n",
    "print(x,' divided by ',y,' is ', z)"
   ]
  },
  {
   "cell_type": "code",
   "execution_count": 24,
   "id": "bfee8ea5",
   "metadata": {},
   "outputs": [
    {
     "data": {
      "text/plain": [
       "'Książka o tytule Harry Potter i nalezaca do kategorii low fantasy'"
      ]
     },
     "execution_count": 24,
     "metadata": {},
     "output_type": "execute_result"
    }
   ],
   "source": [
    "#create a class\n",
    "#lets categorize a book\n",
    "class Book:\n",
    "    def __init__(obiekt, n, g):\n",
    "        obiekt.name = n\n",
    "        obiekt.genre = g\n",
    "    def dane(obiekt):\n",
    "        return f\"Książka o tytule {obiekt.name} i nalezaca do kategorii {obiekt.genre}\"\n",
    "        #print('Książka o tytule',obiekt.name,'i nalezaca do kategorii',obiekt.genre)\n",
    "Harry_Potter=Book('Harry Potter','low fantasy')\n",
    "Harry_Potter.dane()\n",
    "#the_secret_history=Book('The secret History')"
   ]
  },
  {
   "cell_type": "markdown",
   "id": "6a045c63",
   "metadata": {},
   "source": [
    "# Exercises from codebasics"
   ]
  },
  {
   "cell_type": "code",
   "execution_count": 39,
   "id": "720e4fda",
   "metadata": {},
   "outputs": [],
   "source": [
    "countries_population={'China':143,'India':136,'Usa':32,'Pakistan':21}"
   ]
  },
  {
   "cell_type": "code",
   "execution_count": null,
   "id": "eb442529",
   "metadata": {},
   "outputs": [],
   "source": [
    "a=input('Enter print, add, remove or query')\n",
    "\n",
    "try:\n",
    "    if a=='print':\n",
    "        for country in countries_population:\n",
    "            print(country, '==>', countries_population[country])\n",
    "    elif a=='add':\n",
    "        name=input('country name: ')\n",
    "        if name in countries_population:\n",
    "            print('It already exists')\n",
    "        else:\n",
    "            pop=input('Provide population: ')\n",
    "            countries_population[name]=pop\n",
    "            print('Country:',name,'added')\n",
    "    elif a=='remove':\n",
    "        name=input('country name: ')\n",
    "        if name in countries_population:\n",
    "            countries_population.pop(name)\n",
    "        else:\n",
    "            print('It doesn\\'t exists')\n",
    "    elif a=='query':\n",
    "        name=input('country name: ')\n",
    "        print(countries_population[name])\n",
    "except Exception as e:\n",
    "    print('exception type: ', type(e).__name__)"
   ]
  },
  {
   "cell_type": "code",
   "execution_count": 21,
   "id": "fa22da38",
   "metadata": {},
   "outputs": [
    {
     "name": "stdout",
     "output_type": "stream",
     "text": [
      "Enter radius of a circle2\n"
     ]
    },
    {
     "data": {
      "text/plain": [
       "(19.739208802178716, 12.566370614359172, 4.0)"
      ]
     },
     "execution_count": 21,
     "metadata": {},
     "output_type": "execute_result"
    }
   ],
   "source": [
    "import math\n",
    "\n",
    "radius=input('Enter radius of a circle')\n",
    "radius=float(radius)\n",
    "def circle_calc(r):\n",
    "    area = math.pi**2*r\n",
    "    circumference = 2*math.pi*r\n",
    "    diameter=2*r\n",
    "    return area, circumference, diameter\n",
    "\n",
    "\n",
    "circle_calc(radius)"
   ]
  },
  {
   "cell_type": "code",
   "execution_count": 27,
   "id": "f33142a0",
   "metadata": {},
   "outputs": [
    {
     "name": "stdout",
     "output_type": "stream",
     "text": [
      "19.7392\n",
      "19.739\n"
     ]
    }
   ],
   "source": [
    "#rounding up numbers in python\n",
    "a=19.739208802178716\n",
    "\n",
    "#1st option\n",
    "a=round(a,4)\n",
    "print(a)\n",
    "#2nd option\n",
    "a=19.739208802178716\n",
    "a=int(a*1000)/1000\n",
    "print(a)"
   ]
  },
  {
   "cell_type": "code",
   "execution_count": 78,
   "id": "b940dae9",
   "metadata": {},
   "outputs": [
    {
     "name": "stdout",
     "output_type": "stream",
     "text": [
      "['Two', 'roads', 'diverged', 'in', 'a', 'yellow', 'wood', 'And', 'sorry', 'I', 'could', 'not', 'travel', 'both', 'And', 'be', 'one', 'traveler', 'long', 'I', 'stood', 'And', 'looked', 'down', 'one', 'as', 'far', 'as', 'I', 'could', 'To', 'where', 'it', 'bent', 'in', 'the', 'undergrowth;', 'Then', 'took', 'the', 'other', 'as', 'just', 'as', 'fair', 'And', 'having', 'perhaps', 'the', 'better', 'claim', 'Because', 'it', 'was', 'grassy', 'and', 'wanted', 'wear;', 'Though', 'as', 'for', 'that', 'the', 'passing', 'there', 'Had', 'worn', 'them', 'really', 'about', 'the', 'same', 'And', 'both', 'that', 'morning', 'equally', 'lay', 'In', 'leaves', 'no', 'step', 'had', 'trodden', 'black.', 'Oh', 'I', 'kept', 'the', 'first', 'for', 'another', 'day!', 'Yet', 'knowing', 'how', 'way', 'leads', 'on', 'to', 'way', 'I', 'doubted', 'if', 'I', 'should', 'ever', 'come', 'back.', 'I', 'shall', 'be', 'telling', 'this', 'with', 'a', 'sigh', 'Somewhere', 'ages', 'and', 'ages', 'hence:', 'Two', 'roads', 'diverged', 'in', 'a', 'wood', 'and', 'I—', 'I', 'took', 'the', 'one', 'less', 'traveled', 'by', 'And', 'that', 'has', 'made', 'all', 'the', 'difference.']\n",
      "the most common word: I\n"
     ]
    }
   ],
   "source": [
    "from statistics import mode\n",
    "with open(\"poem.txt\",\"r\") as a:\n",
    "    f=a.read()\n",
    "    f=f.replace('\\n', ' ')\n",
    "    f=f.replace(',', ' ')\n",
    "    f=f.split(' ')\n",
    "    f=list(filter(None, f))\n",
    "\n",
    "print(f)\n",
    "print(\"the most common word: \"+mode(f))"
   ]
  },
  {
   "cell_type": "code",
   "execution_count": 74,
   "id": "fb8057e5",
   "metadata": {},
   "outputs": [
    {
     "name": "stdout",
     "output_type": "stream",
     "text": [
      "\n"
     ]
    }
   ],
   "source": [
    "from collections import Counter\n",
    "\n",
    "a_list = ['one', 'one', 'one', 'two', 'two', 'three', '', '', '', '']\n",
    "\n",
    "counter = Counter(a_list)\n",
    "\n",
    "most_common = counter.most_common(1)[0][0]\n",
    "print(most_common)  # 👉️ one"
   ]
  },
  {
   "cell_type": "code",
   "execution_count": 62,
   "id": "aab86156",
   "metadata": {},
   "outputs": [
    {
     "name": "stdout",
     "output_type": "stream",
     "text": [
      "\n"
     ]
    }
   ],
   "source": [
    "from statistics import mode\n",
    "lst=['a','b','c','d','a', '', '', '']\n",
    "print(mode(lst))"
   ]
  },
  {
   "cell_type": "code",
   "execution_count": 20,
   "id": "a0fbb8c3",
   "metadata": {},
   "outputs": [],
   "source": [
    "import csv\n",
    "rows = []\n",
    "with open(\"stocks.csv\",\"r\") as a:\n",
    "    lines = csv.reader(a)\n",
    "    for row in lines:\n",
    "        rows.append(row)\n",
    "rows[0]\n",
    "\n",
    "header = rows[0]\n",
    "data = ['Afghanistan', 652090, 'AF', 'AFG']\n",
    "\n",
    "with open('output.csv', 'w+', encoding='UTF8', newline='') as f:\n",
    "    writer = csv.writer(f)\n",
    "\n",
    "    # write the header\n",
    "    i=0\n",
    "   \n",
    "    writer.writerow(row[0])\n",
    "    \n",
    "    #for row in f:\n",
    "        \n",
    "\n",
    "    # write the data\n",
    "    #writer.writerow(data)\n",
    "\n",
    "\n",
    "#print(lines)\n",
    "#lines\n",
    "#maybe create a function that is creating new lists from this\n",
    "#i dont really know"
   ]
  },
  {
   "cell_type": "code",
   "execution_count": 87,
   "id": "d52e04f9",
   "metadata": {},
   "outputs": [
    {
     "data": {
      "text/plain": [
       "['Dialect',\n",
       " 'DictReader',\n",
       " 'DictWriter',\n",
       " 'Error',\n",
       " 'QUOTE_ALL',\n",
       " 'QUOTE_MINIMAL',\n",
       " 'QUOTE_NONE',\n",
       " 'QUOTE_NONNUMERIC',\n",
       " 'Sniffer',\n",
       " 'StringIO',\n",
       " '_Dialect',\n",
       " '__all__',\n",
       " '__builtins__',\n",
       " '__cached__',\n",
       " '__doc__',\n",
       " '__file__',\n",
       " '__loader__',\n",
       " '__name__',\n",
       " '__package__',\n",
       " '__spec__',\n",
       " '__version__',\n",
       " 'excel',\n",
       " 'excel_tab',\n",
       " 'field_size_limit',\n",
       " 'get_dialect',\n",
       " 'list_dialects',\n",
       " 're',\n",
       " 'reader',\n",
       " 'register_dialect',\n",
       " 'unix_dialect',\n",
       " 'unregister_dialect',\n",
       " 'writer']"
      ]
     },
     "execution_count": 87,
     "metadata": {},
     "output_type": "execute_result"
    }
   ],
   "source": [
    "dir(csv)"
   ]
  },
  {
   "cell_type": "code",
   "execution_count": 47,
   "id": "d0edef07",
   "metadata": {},
   "outputs": [
    {
     "name": "stdout",
     "output_type": "stream",
     "text": [
      "1\n",
      "['Reliance', '1467', '66', '653']\n",
      "2\n",
      "['Tata Steel', '391', '89', '572']\n",
      "3\n",
      "['Infosys', '650', '35', '147']\n",
      "4\n",
      "['Axis Bank', '739', '19', '263']\n",
      "5\n",
      "['Bajaj Finance', '4044', '69', '341']\n",
      "[['Company Name', 'Price', 'Earnings Per Share', ' Book Value'], ['Reliance', '1467', '66', '653'], ['Tata Steel', '391', '89', '572'], ['Infosys', '650', '35', '147'], ['Axis Bank', '739', '19', '263'], ['Bajaj Finance', '4044', '69', '341']]\n"
     ]
    }
   ],
   "source": [
    "#lets make the program above using xlwt bc i think its better\n",
    "import xlwt\n",
    "import csv\n",
    "rows = []\n",
    "with open(\"stocks.csv\",\"r\") as a:\n",
    "    lines = csv.reader(a)\n",
    "    for row in lines:\n",
    "        rows.append(row)\n",
    "        \n",
    "header_font = xlwt.Font()\n",
    "header_font.bold = True\n",
    "\n",
    "header_style = xlwt.XFStyle() #idk what it does honestly\n",
    "header_style.font = header_font        \n",
    "workbook = xlwt.Workbook()\n",
    "sheet = workbook.add_sheet(\"output\")\n",
    "sheet.write(0, 0, 'Company name',header_style)\n",
    "sheet.write(0, 1, 'PE Ratio',header_style)\n",
    "sheet.write(0, 2, 'PB Ratio',header_style)\n",
    "\n",
    "\n",
    "counter = 0\n",
    "for i in rows:\n",
    "    counter = counter + 1\n",
    "\n",
    "for n in range(1,counter):\n",
    "    print(n)\n",
    "    #a=row[n]\n",
    "    print(rows[n])\n",
    "    a=rows[n]\n",
    "    sheet.write(n,0,a[0])\n",
    "    sheet.write(n,1,round(int(a[1])/int(a[2]),2))\n",
    "    sheet.write(n,2,round(int(a[1])/int(a[3]),2))\n",
    "\n",
    "workbook.save('output.csv')\n",
    "print(rows)\n",
    "#print(len(row)) - z jakiegoś powodu wychodzi to na 4\n",
    "#yay i did it\n",
    "#the output should be xls instead i think"
   ]
  },
  {
   "cell_type": "code",
   "execution_count": 45,
   "id": "02076e69",
   "metadata": {},
   "outputs": [
    {
     "data": {
      "text/plain": [
       "2.23"
      ]
     },
     "execution_count": 45,
     "metadata": {},
     "output_type": "execute_result"
    }
   ],
   "source": [
    "round(2.228223,2)"
   ]
  },
  {
   "cell_type": "code",
   "execution_count": null,
   "id": "5c07bc15",
   "metadata": {},
   "outputs": [],
   "source": [
    "#the way he did it(just kinda simpler)\n",
    "\n",
    "with open(\"stocks.csv\", \"r\") as f, open(\"output.csv\", \"w\") as out:\n",
    "    out.write(\"Company Name,PE Ratio, PB Ratio\\n\")\n",
    "    next(f)  # This will skip first line in the file which is a header\n",
    "    for line in f:\n",
    "        tokens = line.split(\",\")\n",
    "        stock = tokens[0]\n",
    "        price = float(tokens[1])\n",
    "        eps = float(tokens[2])\n",
    "        book = float(tokens[3])\n",
    "        pe = round(price / eps, 2)\n",
    "        pb = round(price / book, 2)\n",
    "        out.write(f\"{stock},{pe},{pb}\\n\")"
   ]
  },
  {
   "cell_type": "code",
   "execution_count": 68,
   "id": "89a9eb9b",
   "metadata": {},
   "outputs": [
    {
     "name": "stdout",
     "output_type": "stream",
     "text": [
      "ID: 1 \n",
      "Name: coder\n"
     ]
    }
   ],
   "source": [
    "#class exercise\n",
    "\n",
    "\n",
    "class employee :\n",
    "    def __init__(self,ID,name):\n",
    "        self.ID = ID\n",
    "        self.name = name\n",
    "    def display(self):\n",
    "        print(f\"ID: {self.ID} \\nName: {self.name}\")\n",
    "emp = employee(1, \"coder\")\n",
    "#do i delete the attribute from emp or from the class\n",
    "emp.display()\n",
    "delattr(emp, 'ID')\n",
    "#or del emp.ID\n",
    "\n",
    "del emp"
   ]
  },
  {
   "cell_type": "code",
   "execution_count": null,
   "id": "7e09b60b",
   "metadata": {},
   "outputs": [],
   "source": []
  }
 ],
 "metadata": {
  "kernelspec": {
   "display_name": "Python 3 (ipykernel)",
   "language": "python",
   "name": "python3"
  },
  "language_info": {
   "codemirror_mode": {
    "name": "ipython",
    "version": 3
   },
   "file_extension": ".py",
   "mimetype": "text/x-python",
   "name": "python",
   "nbconvert_exporter": "python",
   "pygments_lexer": "ipython3",
   "version": "3.11.3"
  }
 },
 "nbformat": 4,
 "nbformat_minor": 5
}
